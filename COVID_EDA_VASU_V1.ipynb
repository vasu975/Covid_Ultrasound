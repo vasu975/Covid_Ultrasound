{
 "cells": [
  {
   "cell_type": "code",
   "execution_count": 1,
   "metadata": {},
   "outputs": [],
   "source": [
    "from pathlib import Path\n",
    "import pandas as pd\n",
    "import numpy as np\n",
    "import os"
   ]
  },
  {
   "cell_type": "code",
   "execution_count": 2,
   "metadata": {},
   "outputs": [],
   "source": [
    "#data_path=r'C:\\Users\\vasuvandan\\COVID-US-main\\data\\image\\original'\n",
    "data_path=r'C:\\Users\\vasuvandan\\COVID-US-main\\clean\\clean'"
   ]
  },
  {
   "cell_type": "code",
   "execution_count": 3,
   "metadata": {},
   "outputs": [
    {
     "name": "stdout",
     "output_type": "stream",
     "text": [
      "1183\n"
     ]
    },
    {
     "data": {
      "text/plain": [
       "'218_clarius_covid_prc_convex_clean_frame56'"
      ]
     },
     "execution_count": 3,
     "metadata": {},
     "output_type": "execute_result"
    }
   ],
   "source": [
    "import os\n",
    "\n",
    "def get_filepaths(directory):\n",
    "   \n",
    "    file_paths = [] \n",
    "    \n",
    "    for root, directories, files in os.walk(directory):\n",
    "        for filename in files:\n",
    "            filepath = os.path.join(filename)\n",
    "            filepath=filepath[:-4]\n",
    "            file_paths.append(filepath) \n",
    "\n",
    "    return file_paths  \n",
    "  \n",
    "file_names = get_filepaths(data_path)\n",
    "print(len(file_names))\n",
    "file_names[56]"
   ]
  },
  {
   "cell_type": "code",
   "execution_count": 4,
   "metadata": {},
   "outputs": [
    {
     "data": {
      "text/plain": [
       "['218', 'clarius', 'covid', 'prc', 'convex', 'clean', 'frame0']"
      ]
     },
     "execution_count": 4,
     "metadata": {},
     "output_type": "execute_result"
    }
   ],
   "source": [
    "file_names_split=list(map(lambda s: s.split(\"_\"), file_names))\n",
    "file_names_split[0]    "
   ]
  },
  {
   "cell_type": "code",
   "execution_count": 5,
   "metadata": {},
   "outputs": [
    {
     "name": "stdout",
     "output_type": "stream",
     "text": [
      "     File_no   Source Catogery prc_tag Probe_Type clean_tag Frame_number\n",
      "0        218  clarius    covid     prc     convex     clean       frame0\n",
      "1        218  clarius    covid     prc     convex     clean       frame1\n",
      "2        218  clarius    covid     prc     convex     clean      frame10\n",
      "3        218  clarius    covid     prc     convex     clean     frame100\n",
      "4        218  clarius    covid     prc     convex     clean     frame101\n",
      "...      ...      ...      ...     ...        ...       ...          ...\n",
      "1178     236  clarius   normal     prc     convex     clean      frame95\n",
      "1179     236  clarius   normal     prc     convex     clean      frame96\n",
      "1180     236  clarius   normal     prc     convex     clean      frame97\n",
      "1181     236  clarius   normal     prc     convex     clean      frame98\n",
      "1182     236  clarius   normal     prc     convex     clean      frame99\n",
      "\n",
      "[1183 rows x 7 columns]\n"
     ]
    }
   ],
   "source": [
    "#Create the pandas DataFrame\n",
    "#df = pd.DataFrame(file_names_split, columns = ['File_no','Source','Catogery','Probe_Type','Frame_number'])\n",
    "df = pd.DataFrame(file_names_split, columns = ['File_no','Source','Catogery','prc_tag','Probe_Type','clean_tag','Frame_number'])\n",
    "\n",
    "print(df )"
   ]
  },
  {
   "cell_type": "code",
   "execution_count": 6,
   "metadata": {},
   "outputs": [],
   "source": [
    "df.to_csv('COVID_EDA_DATASET_1200.csv')"
   ]
  },
  {
   "cell_type": "code",
   "execution_count": null,
   "metadata": {},
   "outputs": [],
   "source": []
  },
  {
   "cell_type": "code",
   "execution_count": null,
   "metadata": {},
   "outputs": [],
   "source": []
  }
 ],
 "metadata": {
  "kernelspec": {
   "display_name": "Python 3",
   "language": "python",
   "name": "python3"
  },
  "language_info": {
   "codemirror_mode": {
    "name": "ipython",
    "version": 3
   },
   "file_extension": ".py",
   "mimetype": "text/x-python",
   "name": "python",
   "nbconvert_exporter": "python",
   "pygments_lexer": "ipython3",
   "version": "3.8.5"
  }
 },
 "nbformat": 4,
 "nbformat_minor": 5
}
