{
 "cells": [
  {
   "cell_type": "markdown",
   "metadata": {
    "id": "8PVGO5PdExCb"
   },
   "source": [
    "# <b>Covid 19 Ultrasound project</b>\n",
    "\n",
    "  **Group - 3** Submission \n",
    "\n",
    "---\n",
    " Group Members: \n",
    "\n",
    "    Ritika Khurana                  -  0766413\n",
    "    Ramya Guda                      -  0771097\n",
    "    Vasu Vandan Kodakandla          -  0770472\n",
    "    Adrian Silva                    -  0756525 \n",
    "    Siva Chaitanya Sykam            -  0770796 "
   ]
  },
  {
   "cell_type": "markdown",
   "metadata": {
    "id": "T9aKUR4vQoyY"
   },
   "source": [
    "**Steps followed**\n",
    "\n",
    "1. Loading the data from various folders of CovidProject-Script \n",
    "2. Grayscale and not RGB\n",
    "3. Resize any images that are not the correct size - normalizing \n",
    "4. Store these arrays in the proper shape in an appropriate data structure\n",
    "5. Create a target array to keep track of the proper class \n",
    "6. View a few images after processing to verify that everything is working as it should"
   ]
  },
  {
   "cell_type": "code",
   "execution_count": 1,
   "metadata": {
    "id": "T8Y3gykfk3EM"
   },
   "outputs": [],
   "source": [
    "#ALL LIBRARIES IN USE\n",
    "from tensorflow.keras.preprocessing.image import load_img, img_to_array, smart_resize\n",
    "import matplotlib.pyplot as plt\n",
    "from pathlib import Path\n",
    "import numpy as np\n",
    "import cv2\n",
    "import os\n",
    "#!pip install tensorflow numpy mnist \n",
    "\n",
    "from sklearn.model_selection import train_test_split\n",
    "from tensorflow.keras.utils import to_categorical\n",
    "from tensorflow.keras.models import Sequential\n",
    "import time\n",
    "from PIL import Image\n",
    "from sklearn.metrics import confusion_matrix\n",
    "from tensorflow.keras.layers import Dense\n",
    "from pathlib import Path\n",
    "import tensorflow as tf\n",
    "import numpy as np\n",
    "\n",
    "\n",
    "from tensorflow.keras.optimizers import Adam\n",
    "import keras\n",
    "import tensorflow as tf\n",
    "from tensorflow.keras.models import Sequential\n",
    "from tensorflow.keras.layers import Dense, Dropout, Activation, Flatten, Conv2D, MaxPooling2D\n",
    "\n",
    "#!pip install tensorflow numpy mnist             \n",
    "from tensorflow.keras.datasets import mnist        #importing mnist data \n",
    "from tensorflow.keras.utils import to_categorical  #to convert int to categorical data \n",
    "import matplotlib.pyplot as plt                    #for visualization \n",
    "\n",
    "\n",
    "from tensorflow.keras.models import Sequential    #building network\n",
    "from tensorflow.keras.layers import Dense         #Adding layers\n",
    "\n",
    "from tensorflow.keras.layers import Dropout"
   ]
  },
  {
   "cell_type": "code",
   "execution_count": 2,
   "metadata": {
    "colab": {
     "base_uri": "https://localhost:8080/"
    },
    "id": "Z1C89fTF8Yhg",
    "outputId": "d42ebab7-73ca-430a-a1e3-01ae4792a80e"
   },
   "outputs": [],
   "source": [
    "#from google.colab import drive   #Mounting google drive \n",
    "#drive.mount('/content/drive/')"
   ]
  },
  {
   "cell_type": "code",
   "execution_count": 3,
   "metadata": {},
   "outputs": [],
   "source": [
    "#Getting all the cleaned images \n",
    "covid_path = 'C:\\\\Users\\\\vasuvandan\\\\COVID-US-main\\\\CovidProject\\\\covid'\n",
    "normal_path='C:\\\\Users\\\\vasuvandan\\\\COVID-US-main\\\\CovidProject\\\\normal'\n",
    "other_path='C:\\\\Users\\\\vasuvandan\\\\COVID-US-main\\\\CovidProject\\\\other'\n",
    "pneumonia_path='C:\\\\Users\\\\vasuvandan\\\\COVID-US-main\\\\CovidProject\\\\pneumonia'"
   ]
  },
  {
   "cell_type": "code",
   "execution_count": 4,
   "metadata": {},
   "outputs": [],
   "source": [
    "covid_images=[]\n",
    "normal_images=[]\n",
    "other_images=[]\n",
    "pneumonia_images=[]"
   ]
  },
  {
   "cell_type": "code",
   "execution_count": 5,
   "metadata": {},
   "outputs": [
    {
     "name": "stdout",
     "output_type": "stream",
     "text": [
      "14.914218425750732\n"
     ]
    }
   ],
   "source": [
    "#PUTTING CATEGORY WISE IMAGES INT0 4 DIFFERENT ARRAYS\n",
    "start = time.time()\n",
    "for f in os.listdir(covid_path):\n",
    "       covid_images.append(plt.imread(os.path.join(covid_path,f)))\n",
    "for f in os.listdir(normal_path):\n",
    "       normal_images.append(plt.imread(os.path.join(normal_path,f)))   \n",
    "for f in os.listdir(other_path):\n",
    "       other_images.append(plt.imread(os.path.join(other_path,f)))\n",
    "for f in os.listdir(pneumonia_path):\n",
    "       pneumonia_images.append(plt.imread(os.path.join(pneumonia_path,f)))\n",
    "print(time.time() - start)"
   ]
  },
  {
   "cell_type": "code",
   "execution_count": 6,
   "metadata": {},
   "outputs": [],
   "source": [
    "#RESIZING ALL THE IMAGES TO 256,256\n",
    "for i in range(len(pneumonia_images)):\n",
    "    pneumonia_images[i]=cv2.resize(pneumonia_images[i],(256,256))\n",
    "for i in range(len(covid_images)):\n",
    "    covid_images[i]=cv2.resize(covid_images[i],(256,256))\n",
    "for i in range(len(normal_images)):\n",
    "    normal_images[i]=cv2.resize(normal_images[i],(256,256))\n",
    "for i in range(len(other_images)):\n",
    "    other_images[i]=cv2.resize(other_images[i],(256,256))"
   ]
  },
  {
   "cell_type": "code",
   "execution_count": 7,
   "metadata": {},
   "outputs": [],
   "source": [
    "#TAKING EMPTY ARRAYS\n",
    "c=[]\n",
    "n=[]\n",
    "p=[]"
   ]
  },
  {
   "cell_type": "code",
   "execution_count": 8,
   "metadata": {},
   "outputs": [],
   "source": [
    "#FUNCTION TO CONVERT IMAGES TO BLACK WHITE\n",
    "def rgb2gray(rgb):\n",
    "    return np.dot(rgb[...,:3], [0.2989, 0.5870, 0.1140])"
   ]
  },
  {
   "cell_type": "code",
   "execution_count": 9,
   "metadata": {},
   "outputs": [],
   "source": [
    "for i in covid_images:\n",
    "  c.append(rgb2gray(i))\n",
    "for i in normal_images:\n",
    "  n.append(rgb2gray(i))\n",
    "for i in pneumonia_images:\n",
    "  p.append(rgb2gray(i))"
   ]
  },
  {
   "cell_type": "code",
   "execution_count": 10,
   "metadata": {},
   "outputs": [],
   "source": [
    "#FINAL PROCESSED IMAGES - WHICH WE WILL USE IN THE MODEL \n",
    "normal_images=np.array(n)\n",
    "covid_images=np.array(c)\n",
    "pneumonia_images=np.array(p)\n",
    "other_images=np.array(other_images)  #we don't have any image for other category"
   ]
  },
  {
   "cell_type": "code",
   "execution_count": 11,
   "metadata": {},
   "outputs": [
    {
     "name": "stdout",
     "output_type": "stream",
     "text": [
      "(365, 256, 256)\n",
      "(337, 256, 256)\n",
      "(416, 256, 256)\n"
     ]
    }
   ],
   "source": [
    "#checking the length of all arrays\n",
    "print(normal_images.shape)\n",
    "print(covid_images.shape)\n",
    "print(pneumonia_images.shape)"
   ]
  },
  {
   "cell_type": "code",
   "execution_count": 12,
   "metadata": {},
   "outputs": [],
   "source": [
    "# print(len(covid_images))\n",
    "# print(len(normal_images))\n",
    "# print(len(pneumonia_images))\n"
   ]
  },
  {
   "cell_type": "code",
   "execution_count": 13,
   "metadata": {},
   "outputs": [],
   "source": [
    "#appending all to one array\n",
    "allImage=[]\n",
    "allImage.append(covid_images)\n",
    "allImage.append(normal_images)\n",
    "allImage.append(pneumonia_images)\n"
   ]
  },
  {
   "cell_type": "code",
   "execution_count": 14,
   "metadata": {},
   "outputs": [],
   "source": [
    "#opening up the array and taking it into single\n",
    "allImages=[]\n",
    "allImages=[item for sublist in allImage for item in sublist]"
   ]
  },
  {
   "cell_type": "code",
   "execution_count": 15,
   "metadata": {},
   "outputs": [
    {
     "data": {
      "text/plain": [
       "1118"
      ]
     },
     "execution_count": 15,
     "metadata": {},
     "output_type": "execute_result"
    }
   ],
   "source": [
    "len(allImages)  #total Image data "
   ]
  },
  {
   "cell_type": "code",
   "execution_count": 16,
   "metadata": {},
   "outputs": [],
   "source": [
    "#Creating label column\n",
    "covid_labels=list(337*'0')\n",
    "normal_labels=list(365*'1')\n",
    "pneumonia_labels=list(416*'2')"
   ]
  },
  {
   "cell_type": "code",
   "execution_count": 17,
   "metadata": {},
   "outputs": [],
   "source": [
    "#attaching all label to one\n",
    "allLabel=[]\n",
    "allLabel.append(covid_labels)\n",
    "allLabel.append(normal_labels)\n",
    "allLabel.append(pneumonia_labels)\n"
   ]
  },
  {
   "cell_type": "code",
   "execution_count": 18,
   "metadata": {
    "colab": {
     "base_uri": "https://localhost:8080/"
    },
    "id": "-1AWd4W_fqrN",
    "outputId": "85de3d37-4836-46eb-c8e3-a4261982fc53"
   },
   "outputs": [],
   "source": [
    "#Opening of all the internal sub arrays\n",
    "allLabels=[]\n",
    "allLabels=[item for sublist in allLabel for item in sublist]"
   ]
  },
  {
   "cell_type": "code",
   "execution_count": 19,
   "metadata": {},
   "outputs": [
    {
     "data": {
      "text/plain": [
       "1118"
      ]
     },
     "execution_count": 19,
     "metadata": {},
     "output_type": "execute_result"
    }
   ],
   "source": [
    "len(allLabels)"
   ]
  },
  {
   "cell_type": "code",
   "execution_count": 20,
   "metadata": {},
   "outputs": [
    {
     "data": {
      "text/plain": [
       "array(['0', '1', '2'], dtype='<U1')"
      ]
     },
     "execution_count": 20,
     "metadata": {},
     "output_type": "execute_result"
    }
   ],
   "source": [
    "allLabels[:5]\n",
    "np.unique(allLabels)  #label has string values"
   ]
  },
  {
   "cell_type": "code",
   "execution_count": 21,
   "metadata": {},
   "outputs": [],
   "source": [
    "#final ready dataset \n",
    "allImages =np.array( allImages)\n",
    "allLabels =np.array( allLabels)"
   ]
  },
  {
   "cell_type": "markdown",
   "metadata": {
    "id": "sqeVuSUahg86"
   },
   "source": [
    "**view a few images after processing to verify that everything is working as it should ?**"
   ]
  },
  {
   "cell_type": "code",
   "execution_count": 22,
   "metadata": {},
   "outputs": [
    {
     "data": {
      "text/plain": [
       "(256, 256)"
      ]
     },
     "execution_count": 22,
     "metadata": {},
     "output_type": "execute_result"
    }
   ],
   "source": [
    "allLabels.shape\n",
    "allImages[0].shape"
   ]
  },
  {
   "cell_type": "code",
   "execution_count": 23,
   "metadata": {
    "colab": {
     "base_uri": "https://localhost:8080/",
     "height": 165
    },
    "id": "oe0wCOJfmYSZ",
    "outputId": "6bb3f441-cc89-410d-89ce-7931431d8fcf"
   },
   "outputs": [
    {
     "data": {
      "text/plain": [
       "<matplotlib.image.AxesImage at 0x274e0b5d1f0>"
      ]
     },
     "execution_count": 23,
     "metadata": {},
     "output_type": "execute_result"
    },
    {
     "data": {
      "image/png": "[encoded data removed]",
      "text/plain": [
       "<Figure size 432x288 with 1 Axes>"
      ]
     },
     "metadata": {
      "needs_background": "light"
     },
     "output_type": "display_data"
    }
   ],
   "source": [
    "plt.imshow(allImages[0],cmap='gray')"
   ]
  },
  {
   "cell_type": "code",
   "execution_count": 24,
   "metadata": {
    "colab": {
     "base_uri": "https://localhost:8080/",
     "height": 286
    },
    "id": "cLP8DJQ4mqNB",
    "outputId": "21318297-0cd4-43bf-e15f-3d7773f1c609"
   },
   "outputs": [
    {
     "data": {
      "text/plain": [
       "<matplotlib.image.AxesImage at 0x274e0be03d0>"
      ]
     },
     "execution_count": 24,
     "metadata": {},
     "output_type": "execute_result"
    },
    {
     "data": {
      "image/png": "[encoded data removed]",
      "text/plain": [
       "<Figure size 432x288 with 1 Axes>"
      ]
     },
     "metadata": {
      "needs_background": "light"
     },
     "output_type": "display_data"
    }
   ],
   "source": [
    "plt.imshow(allImages[20],cmap='gray')"
   ]
  },
  {
   "cell_type": "code",
   "execution_count": 25,
   "metadata": {
    "colab": {
     "base_uri": "https://localhost:8080/"
    },
    "id": "1ZV7LiWUmw9q",
    "outputId": "91ea954a-1843-443f-801e-0aacc028421c"
   },
   "outputs": [
    {
     "data": {
      "text/plain": [
       "(256, 256, 1)"
      ]
     },
     "execution_count": 25,
     "metadata": {},
     "output_type": "execute_result"
    }
   ],
   "source": [
    "#vasu changed  (-1, 256, 256, 1) to (-1, 224, 224, 1)\n",
    "\n",
    "allImages = np.array(allImages).reshape(-1, 256, 256, 1)\n",
    "allImages[20].shape\n"
   ]
  },
  {
   "cell_type": "code",
   "execution_count": 26,
   "metadata": {
    "colab": {
     "base_uri": "https://localhost:8080/"
    },
    "id": "Xt7zdRxInUlx",
    "outputId": "767fc3cc-068b-4869-e9a7-c6f7de59be62"
   },
   "outputs": [
    {
     "data": {
      "text/plain": [
       "(1118, 256, 256, 1)"
      ]
     },
     "execution_count": 26,
     "metadata": {},
     "output_type": "execute_result"
    }
   ],
   "source": [
    "allImages.shape"
   ]
  },
  {
   "cell_type": "code",
   "execution_count": 27,
   "metadata": {
    "colab": {
     "base_uri": "https://localhost:8080/"
    },
    "id": "jTz0BSo-rNlx",
    "outputId": "f20b715f-4923-4413-f42a-f6c1fa69d575"
   },
   "outputs": [
    {
     "data": {
      "text/plain": [
       "(1118,)"
      ]
     },
     "execution_count": 27,
     "metadata": {},
     "output_type": "execute_result"
    }
   ],
   "source": [
    "allLabels.shape  "
   ]
  },
  {
   "cell_type": "code",
   "execution_count": 28,
   "metadata": {
    "colab": {
     "base_uri": "https://localhost:8080/"
    },
    "id": "u5a8TriNzOzQ",
    "outputId": "42569e0e-58f5-4dbc-a0b6-50b99c1dce8c"
   },
   "outputs": [
    {
     "data": {
      "text/plain": [
       "(array(['0', '1', '2'], dtype='<U1'), array([337, 365, 416], dtype=int64))"
      ]
     },
     "execution_count": 28,
     "metadata": {},
     "output_type": "execute_result"
    }
   ],
   "source": [
    "np.unique(allLabels) \n",
    "np.unique(allLabels, return_counts = True)   #showing the count of each category leaves"
   ]
  },
  {
   "cell_type": "markdown",
   "metadata": {
    "id": "NI1Xvkv3m1_S"
   },
   "source": [
    "We are confirming that after verification\n",
    "\n",
    "1.   There are total 1118 gray scale images are of size  (256 * 256)\n",
    "2.   Lables count is 1118 whose shape is (1118,1)\n",
    "3.   Labels have 3 unique values existing which acts as 3 classifications(  COVID - 1,NORMAL - 2, PNEUMONIA - 3)"
   ]
  },
  {
   "cell_type": "markdown",
   "metadata": {
    "id": "X6En1SmZRExk"
   },
   "source": [
    "**\n",
    "The next step is to build the neural network so that it will work with the data that was processed above.**\n",
    "1. We are creating training, validation, and test sets in the following ratio: 70%/20%/10%\n",
    "2. We are making sure that the splits maintain the distribution of the classes (stratify may help here)\n",
    "3. We have used np.unique() to verify that the class distributions are approximately the same in all data sets (return_counts may come in handy here)\n",
    "4. We will train our network for as many epochs as necessary for the accuracy to stop improving\n",
    "5. We will compute the accuracy on the test data\n",
    "6. We will compute the confusion matrix (use tf.math.confusion_matrix())"
   ]
  },
  {
   "cell_type": "code",
   "execution_count": 29,
   "metadata": {
    "colab": {
     "base_uri": "https://localhost:8080/"
    },
    "id": "kvsi9okca6N8",
    "outputId": "c181216e-84f6-4107-9a84-667cbda804ea"
   },
   "outputs": [
    {
     "name": "stdout",
     "output_type": "stream",
     "text": [
      "0.22222222222222224\n",
      "Train images shape is  (782, 256, 256, 1)\n",
      "Train labels shape is  (782,)\n",
      "\n",
      "Test images shape is  (112, 256, 256, 1)\n",
      "Test labels shape is  (112,)\n",
      "\n",
      "Validation images shape is  (224, 256, 256, 1)\n",
      "Validation images shape is  (224,)\n"
     ]
    }
   ],
   "source": [
    "#SPLITING DATA SET\n",
    "size_train = 0.7\n",
    "size_val = 0.2\n",
    "size_test = 0.1 \n",
    "\n",
    "size_remaining = 1 - size_test     #0.9\n",
    "size_val_adjusted = size_val / size_remaining \n",
    "print(size_val_adjusted)  #0.222\n",
    "\n",
    "\n",
    "#Splitting data\n",
    "train_images,test_images,train_labels,test_labels  = train_test_split(allImages, allLabels, test_size=size_test, random_state=1, stratify = allLabels)\n",
    "\n",
    "train_images, val_images,train_labels, val_labels  = train_test_split(train_images, train_labels, test_size=size_val_adjusted, random_state=1, stratify=train_labels)\n",
    "          \n",
    "print('Train images shape is ',train_images.shape)\n",
    "print('Train labels shape is ',train_labels.shape)\n",
    "\n",
    "print('\\nTest images shape is ',test_images.shape)\n",
    "print('Test labels shape is ',test_labels.shape)\n",
    "\n",
    "print('\\nValidation images shape is ',val_images.shape)\n",
    "print('Validation images shape is ',val_labels.shape) "
   ]
  },
  {
   "cell_type": "markdown",
   "metadata": {
    "id": "ZsSwnRv9r03y"
   },
   "source": [
    "1.   Here, Training images count is 782 which is around 70% of 1118 images\n",
    "2.   Validation images count is 224 which is around 20% of 1118 images\n",
    "3.   Test images count is 112 which is around 10% of 1118 images\n"
   ]
  },
  {
   "cell_type": "markdown",
   "metadata": {
    "id": "EO5e3vRblCUg"
   },
   "source": [
    "Stratify is added while spliting the data.\n",
    "To check if all the datasets have all the classification."
   ]
  },
  {
   "cell_type": "code",
   "execution_count": 30,
   "metadata": {
    "colab": {
     "base_uri": "https://localhost:8080/"
    },
    "id": "wdvlRgiZ1-kh",
    "outputId": "b1632403-3252-487d-d09c-6657d963ecbe"
   },
   "outputs": [
    {
     "data": {
      "text/plain": [
       "(array(['0', '1', '2'], dtype='<U1'), array([235, 256, 291], dtype=int64))"
      ]
     },
     "execution_count": 30,
     "metadata": {},
     "output_type": "execute_result"
    }
   ],
   "source": [
    "np.unique(train_labels, return_counts = True) "
   ]
  },
  {
   "cell_type": "code",
   "execution_count": 31,
   "metadata": {
    "colab": {
     "base_uri": "https://localhost:8080/"
    },
    "id": "8EQ2OATd6Nz-",
    "outputId": "3b659498-4f7e-45b1-ca96-e09ae52e6e6c"
   },
   "outputs": [
    {
     "data": {
      "text/plain": [
       "(array(['0', '1', '2'], dtype='<U1'), array([34, 36, 42], dtype=int64))"
      ]
     },
     "execution_count": 31,
     "metadata": {},
     "output_type": "execute_result"
    }
   ],
   "source": [
    "np.unique(test_labels, return_counts = True)"
   ]
  },
  {
   "cell_type": "code",
   "execution_count": 32,
   "metadata": {
    "colab": {
     "base_uri": "https://localhost:8080/"
    },
    "id": "9t1B0PGRnLZ5",
    "outputId": "0eb33963-b6e0-4edb-d207-56442b6449dc"
   },
   "outputs": [
    {
     "data": {
      "text/plain": [
       "(array(['0', '1', '2'], dtype='<U1'), array([68, 73, 83], dtype=int64))"
      ]
     },
     "execution_count": 32,
     "metadata": {},
     "output_type": "execute_result"
    }
   ],
   "source": [
    "np.unique(val_labels, return_counts = True)"
   ]
  },
  {
   "cell_type": "code",
   "execution_count": 33,
   "metadata": {},
   "outputs": [],
   "source": [
    "#Vasu Balancing the train dataset"
   ]
  },
  {
   "cell_type": "code",
   "execution_count": 34,
   "metadata": {},
   "outputs": [],
   "source": [
    "# print(np.unique(train_labels,return_counts=True))"
   ]
  },
  {
   "cell_type": "code",
   "execution_count": 35,
   "metadata": {},
   "outputs": [],
   "source": [
    "# from imblearn.over_sampling import SMOTE\n",
    "# #oversample = SMOTE(sampling_strategy=0.7)\n",
    "\n",
    "# oversample = SMOTE(\"minority\")"
   ]
  },
  {
   "cell_type": "code",
   "execution_count": 36,
   "metadata": {},
   "outputs": [],
   "source": [
    "# print(len(train_images),len(train_labels))\n",
    "# train_images,train_labels = oversample.fit_resample(train_images.reshape(train_images.shape[0],-1), train_labels)\n",
    "# print(len(train_images),len(train_labels))"
   ]
  },
  {
   "cell_type": "code",
   "execution_count": 37,
   "metadata": {},
   "outputs": [],
   "source": [
    "# print(np.unique(train_labels,return_counts=True))"
   ]
  },
  {
   "cell_type": "code",
   "execution_count": 38,
   "metadata": {},
   "outputs": [
    {
     "name": "stdout",
     "output_type": "stream",
     "text": [
      "(782, 256, 256, 1)\n",
      "(256, 256, 1)\n"
     ]
    },
    {
     "data": {
      "text/plain": [
       "<matplotlib.image.AxesImage at 0x274e0c37ca0>"
      ]
     },
     "execution_count": 38,
     "metadata": {},
     "output_type": "execute_result"
    },
    {
     "data": {
      "image/png": "[encoded data removed]",
      "text/plain": [
       "<Figure size 432x288 with 1 Axes>"
      ]
     },
     "metadata": {
      "needs_background": "light"
     },
     "output_type": "display_data"
    }
   ],
   "source": [
    "####demo\n",
    "print(train_images.shape)\n",
    "print(train_images[1].shape)  #train_images\n",
    "#print(train_images[1])\n",
    "plt.imshow(train_images[1], cmap = 'gray')"
   ]
  },
  {
   "cell_type": "code",
   "execution_count": 39,
   "metadata": {},
   "outputs": [
    {
     "name": "stdout",
     "output_type": "stream",
     "text": [
      "<class 'numpy.ndarray'>\n",
      "(256, 256, 1)\n"
     ]
    }
   ],
   "source": [
    "print(type(train_images[0]))\n",
    "print(train_images[0].shape)"
   ]
  },
  {
   "cell_type": "code",
   "execution_count": 40,
   "metadata": {},
   "outputs": [
    {
     "name": "stdout",
     "output_type": "stream",
     "text": [
      "<class 'numpy.str_'>\n",
      "<class 'numpy.float32'>\n"
     ]
    }
   ],
   "source": [
    "##### Fix For error123 ###\n",
    "\n",
    "print(type(train_labels[0]))\n",
    "\n",
    "train_labels = np.array([float(numeric_string) for numeric_string in train_labels])\n",
    "\n",
    "\n",
    "train_labels = train_labels.astype('float32')\n",
    "\n",
    "\n",
    "print(type(train_labels[0]))"
   ]
  },
  {
   "cell_type": "code",
   "execution_count": 41,
   "metadata": {},
   "outputs": [],
   "source": [
    "\n",
    "# train_images = train_images.astype('float32')\n",
    "# val_images = val_images.astype('float32')\n",
    "# test_images = test_images.astype('float32')\n",
    "\n",
    "#normalizing the array image\n",
    "train_images = train_images/256.\n",
    "val_images = val_images/256.\n",
    "test_images = test_images/256."
   ]
  },
  {
   "cell_type": "code",
   "execution_count": 42,
   "metadata": {},
   "outputs": [],
   "source": [
    "model = Sequential()\n",
    "\n",
    "model.add(Conv2D(64, (3,3), activation = 'relu',input_shape=(256,256,1)))\n",
    "model.add(MaxPooling2D(2,2))\n",
    "model.add(Dropout(0.1))\n",
    "\n",
    "model.add(Conv2D(64, (3,3), activation = 'relu'))\n",
    "model.add(MaxPooling2D(2,2))\n",
    "model.add(Dropout(0.2))\n",
    "\n",
    "model.add(Conv2D(64, (3,3), activation = 'relu'))\n",
    "model.add(MaxPooling2D(2,2))\n",
    "model.add(Dropout(0.2))\n",
    "\n",
    "model.add(Flatten())\n",
    "\n",
    "model.add(Dense(128, input_shape = allImages.shape[1:], activation = 'relu'))\n",
    "\n",
    "#output layer\n",
    "model.add(Dense(3, activation = 'softmax'))"
   ]
  },
  {
   "cell_type": "code",
   "execution_count": 43,
   "metadata": {},
   "outputs": [],
   "source": [
    "#compile the model\n",
    "model.compile(loss=\"sparse_categorical_crossentropy\",\n",
    "             optimizer=\"adam\",\n",
    "             metrics=['accuracy'])"
   ]
  },
  {
   "cell_type": "code",
   "execution_count": 44,
   "metadata": {},
   "outputs": [
    {
     "name": "stdout",
     "output_type": "stream",
     "text": [
      "25/25 [==============================] - 67s 3s/step - loss: 0.2942 - accuracy: 0.9003\n"
     ]
    }
   ],
   "source": [
    "#fit model\n",
    "\n",
    "history = model.fit(train_images, train_labels, epochs=1,)\n",
    "hist = history.history"
   ]
  },
  {
   "cell_type": "code",
   "execution_count": 45,
   "metadata": {},
   "outputs": [
    {
     "name": "stdout",
     "output_type": "stream",
     "text": [
      "INFO:tensorflow:Assets written to: C:\\Users\\vasuvandan\\COVID-US-main\\assets\n"
     ]
    }
   ],
   "source": [
    "#save model\n",
    "model.save(os.path.abspath(os.getcwd()))\n",
    "\n",
    "#save history\n",
    "np.save('my_history.npy',hist)\n",
    "\n",
    "#load model\n",
    "model = keras.models.load_model(os.path.abspath(os.getcwd()))\n",
    "\n",
    "#load history\n",
    "hist=np.load('my_history.npy',allow_pickle='TRUE').item()\n"
   ]
  },
  {
   "cell_type": "code",
   "execution_count": 46,
   "metadata": {},
   "outputs": [],
   "source": [
    "# acc=history.history['accuracy']  ##getting  accuracy of each epochs\n",
    "# epochs_=range(0,epochs)    \n",
    "# plt.plot(epochs_,acc,label='training accuracy')\n",
    "# plt.xlabel('no of epochs')\n",
    "# plt.ylabel('accuracy')\n",
    "\n",
    "# acc_val=history.history['val_acc']  ##getting validation accuracy of each epochs\n",
    "# plt.scatter(epochs_,acc_val,label=\"validation accuracy\")\n",
    "# plt.title(\"no of epochs vs accuracy\")\n",
    "# plt.legend()\n"
   ]
  },
  {
   "cell_type": "code",
   "execution_count": 47,
   "metadata": {},
   "outputs": [],
   "source": [
    "# from keras.applications.vgg16 import VGG16\n",
    "# model = VGG16()"
   ]
  },
  {
   "cell_type": "code",
   "execution_count": 48,
   "metadata": {},
   "outputs": [],
   "source": [
    "\n",
    "# from keras.applications.vgg16 import VGG16\n",
    "# model = VGG16()\n",
    "# print(model.summary())"
   ]
  },
  {
   "cell_type": "code",
   "execution_count": 49,
   "metadata": {
    "colab": {
     "base_uri": "https://localhost:8080/"
    },
    "id": "ep9T18HBHNNR",
    "outputId": "fe0e68aa-83d4-42e8-e59c-96a1dcc48ade"
   },
   "outputs": [
    {
     "name": "stdout",
     "output_type": "stream",
     "text": [
      "Train images data type is float64\n",
      "First train images shape is (256, 256, 1)\n",
      "First train image is [[[0.]\n",
      "  [0.]\n",
      "  [0.]\n",
      "  ...\n",
      "  [0.]\n",
      "  [0.]\n",
      "  [0.]]\n",
      "\n",
      " [[0.]\n",
      "  [0.]\n",
      "  [0.]\n",
      "  ...\n",
      "  [0.]\n",
      "  [0.]\n",
      "  [0.]]\n",
      "\n",
      " [[0.]\n",
      "  [0.]\n",
      "  [0.]\n",
      "  ...\n",
      "  [0.]\n",
      "  [0.]\n",
      "  [0.]]\n",
      "\n",
      " ...\n",
      "\n",
      " [[0.]\n",
      "  [0.]\n",
      "  [0.]\n",
      "  ...\n",
      "  [0.]\n",
      "  [0.]\n",
      "  [0.]]\n",
      "\n",
      " [[0.]\n",
      "  [0.]\n",
      "  [0.]\n",
      "  ...\n",
      "  [0.]\n",
      "  [0.]\n",
      "  [0.]]\n",
      "\n",
      " [[0.]\n",
      "  [0.]\n",
      "  [0.]\n",
      "  ...\n",
      "  [0.]\n",
      "  [0.]\n",
      "  [0.]]]\n"
     ]
    },
    {
     "data": {
      "text/plain": [
       "(256, 256, 1)"
      ]
     },
     "execution_count": 49,
     "metadata": {},
     "output_type": "execute_result"
    }
   ],
   "source": [
    "print('Train images data type is',train_images.dtype)\n",
    "print('First train images shape is',train_images[0].shape)\n",
    "print('First train image is',train_images[0])\n",
    "train_images[0].shape"
   ]
  },
  {
   "cell_type": "code",
   "execution_count": 50,
   "metadata": {
    "colab": {
     "base_uri": "https://localhost:8080/"
    },
    "id": "LG4CUYtEBvmz",
    "outputId": "c8b98275-1bf0-4376-de8a-83f5da26cf05"
   },
   "outputs": [
    {
     "name": "stdout",
     "output_type": "stream",
     "text": [
      "First Train label is  1.0\n",
      "irst test label is  2\n",
      "First Validation labelis  2\n",
      "\n",
      "First Train label after converting to categorical is  [0. 1. 0.]\n",
      "First test label after converting to categorical is  [0. 0. 1.]\n",
      "First Validation label after converting to categorical is  [0. 0. 1.]\n"
     ]
    }
   ],
   "source": [
    "print('First Train label is ',train_labels[0])\n",
    "print('irst test label is ',test_labels[0])\n",
    "print('First Validation labelis ',val_labels[0])\n",
    "\n",
    "#Here we are converting the labels to a category\n",
    "train_labels = to_categorical(train_labels) \n",
    "test_labels = to_categorical(test_labels)\n",
    "val_labels = to_categorical(val_labels)\n",
    "\n",
    "print('\\nFirst Train label after converting to categorical is ',train_labels[0])\n",
    "print('First test label after converting to categorical is ',test_labels[0])\n",
    "print('First Validation label after converting to categorical is ',val_labels[0])\n"
   ]
  },
  {
   "cell_type": "code",
   "execution_count": 51,
   "metadata": {
    "colab": {
     "base_uri": "https://localhost:8080/"
    },
    "id": "aT3qrsoUdSG4",
    "outputId": "d1d443e4-dc1c-4ca1-b269-538afc3e3b54"
   },
   "outputs": [
    {
     "name": "stdout",
     "output_type": "stream",
     "text": [
      "tf.Tensor(\n",
      "[[34  0  0]\n",
      " [ 0 36  0]\n",
      " [ 0  0 42]], shape=(3, 3), dtype=int32)\n"
     ]
    }
   ],
   "source": [
    "#Creating confusion matrix to check comparison between actual classification and predicted classification\n",
    "testLabelsPredPart4 = np.argmax((model.predict(test_images)),axis=1)\n",
    "testLabels = np.argmax((test_labels),axis=1)\n",
    "\n",
    "print(tf.math.confusion_matrix(testLabels, testLabelsPredPart4))"
   ]
  },
  {
   "cell_type": "markdown",
   "metadata": {
    "id": "xrkOQm56RqGi"
   },
   "source": [
    "\n",
    "\n",
    "1. Train your network for as many epochs as necessary for the accuracy to stop improving\n",
    "2. compute the new accuracy on the test data and compare with that of Part \n",
    "3. compute the new confusion matrix (use tf.math.confusion_matrix()) and compare with that of Part "
   ]
  },
  {
   "cell_type": "markdown",
   "metadata": {},
   "source": [
    "# DENSENET"
   ]
  },
  {
   "cell_type": "code",
   "execution_count": 58,
   "metadata": {},
   "outputs": [],
   "source": [
    "callback = keras.callbacks.ModelCheckpoint(\"DenseNet169\", #\"DenseNet169.keras\"\n",
    "                                            save_best_only=True,\n",
    "                                            #save_weights_only=True,\n",
    "                                            monitor=\"val_loss\")"
   ]
  },
  {
   "cell_type": "code",
   "execution_count": 62,
   "metadata": {},
   "outputs": [],
   "source": [
    "from tensorflow.keras.optimizers import Adam\n",
    "opt = tf.keras.optimizers.Adam(learning_rate=0.01)"
   ]
  },
  {
   "cell_type": "code",
   "execution_count": 63,
   "metadata": {},
   "outputs": [
    {
     "name": "stdout",
     "output_type": "stream",
     "text": [
      "Epoch 1/5\n",
      "5/5 [==============================] - 3362s 788s/step - loss: 1.2893 - accuracy: 0.6368 - val_loss: 15410871610500659927826038784.0000 - val_accuracy: 0.2930\n",
      "INFO:tensorflow:Assets written to: DenseNet169\\assets\n",
      "Epoch 2/5\n",
      "5/5 [==============================] - 1420s 294s/step - loss: 0.1292 - accuracy: 0.9984 - val_loss: 125599704645325859469563789312.0000 - val_accuracy: 0.2930\n",
      "Epoch 3/5\n",
      "5/5 [==============================] - 1148s 247s/step - loss: 0.0344 - accuracy: 1.0000 - val_loss: 43169125821527313820418048.0000 - val_accuracy: 0.2930\n",
      "INFO:tensorflow:Assets written to: DenseNet169\\assets\n",
      "Epoch 4/5\n",
      "5/5 [==============================] - 1183s 237s/step - loss: 0.0051 - accuracy: 1.0000 - val_loss: 21862292045505845264384.0000 - val_accuracy: 0.2930\n",
      "INFO:tensorflow:Assets written to: DenseNet169\\assets\n",
      "Epoch 5/5\n",
      "5/5 [==============================] - 1257s 253s/step - loss: 0.0012 - accuracy: 1.0000 - val_loss: 31479541270761701376.0000 - val_accuracy: 0.2930\n",
      "INFO:tensorflow:Assets written to: DenseNet169\\assets\n"
     ]
    }
   ],
   "source": [
    "from keras.applications.densenet import DenseNet169\n",
    "dense_model = DenseNet169(include_top=True , \n",
    "                          weights=None,\n",
    "                          input_shape = (  256 , 256, 1),\n",
    "                          classes=3)\n",
    "dense_model.compile(loss='categorical_crossentropy', optimizer= opt, \n",
    "                    metrics=['accuracy'])\n",
    "#dense_model.summary()\n",
    "history = dense_model.fit(train_images, train_labels, validation_split=0.2, epochs=5, batch_size=128, verbose=1, callbacks=[callback])"
   ]
  },
  {
   "cell_type": "code",
   "execution_count": 65,
   "metadata": {},
   "outputs": [
    {
     "name": "stdout",
     "output_type": "stream",
     "text": [
      "7/7 [==============================] - 56s 8s/step - loss: 31279366382832058368.0000 - accuracy: 0.3036\n",
      "Accuracy is 30.35714328289032\n"
     ]
    }
   ],
   "source": [
    "DenseNet169 = keras.models.load_model('DenseNet169')\n",
    "loss,acc = DenseNet169.evaluate(val_images, val_labels)\n",
    "print(f'Accuracy is {100*acc}')"
   ]
  },
  {
   "cell_type": "markdown",
   "metadata": {},
   "source": [
    "RITIKA'S CODE"
   ]
  },
  {
   "cell_type": "code",
   "execution_count": null,
   "metadata": {
    "id": "ZiTSvVAUeO8l"
   },
   "outputs": [],
   "source": [
    "import gradio\n",
    "import gradio as gr"
   ]
  },
  {
   "cell_type": "code",
   "execution_count": null,
   "metadata": {},
   "outputs": [],
   "source": [
    "train_images[1].shape"
   ]
  },
  {
   "cell_type": "code",
   "execution_count": null,
   "metadata": {},
   "outputs": [],
   "source": [
    "img=train_images[1]\n",
    "img = img.reshape((256 * 256))\n",
    "img = img.reshape(1, 256, 256, 1)\n",
    "prediction = model.predict(img).tolist()[0]\n",
    "prediction\n",
    "\n",
    "# res=disease(img)\n",
    "# res"
   ]
  },
  {
   "cell_type": "code",
   "execution_count": null,
   "metadata": {
    "id": "OR1g03qjePur"
   },
   "outputs": [],
   "source": [
    "#create a function to make predictions\n",
    "#return a dictionary of labels and probabilities\n",
    "def disease(img):\n",
    "    img = img.reshape((256 * 256))\n",
    "    img = img.reshape(1, 256, 256, 1)\n",
    "    prediction = model.predict(img).tolist()[0]\n",
    "    class_names = ['0', '1', '2']\n",
    "    return {class_names[i]: prediction[i] for i in range(3)}\n",
    "\n",
    "\n",
    "#set the user uploaded image as the input array\n",
    "#match same shape as the input shape in the model\n",
    "im = gradio.inputs.Image(shape=(256*256), invert_colors=False, source=\"upload\")\n",
    "\n",
    "#setup the interface\n",
    "iface = gr.Interface(\n",
    "    fn = disease, \n",
    "    inputs = im, \n",
    "    outputs = gradio.outputs.Label(),\n",
    ")\n",
    "iface.launch(share=True)"
   ]
  },
  {
   "cell_type": "code",
   "execution_count": null,
   "metadata": {},
   "outputs": [],
   "source": [
    "image = train_images[1]\n",
    "\n",
    "temp = example(image)\n",
    "\n",
    "temp"
   ]
  },
  {
   "cell_type": "code",
   "execution_count": null,
   "metadata": {
    "scrolled": false
   },
   "outputs": [],
   "source": [
    "def example(image):\n",
    "    image = image.reshape((-1,256, 256)),\n",
    "    prediction = model.predict(image).flatten(),\n",
    "    return {class_names[i]: float(prediction[i]) for i in range(3)}\n",
    "\n",
    "class_names = ['0','1','2'] \n",
    "\n",
    "#initializing the input component\n",
    "image = gr.inputs.Image(shape = (256, 256)) \n",
    "# initializing the output component \n",
    "label = gr.outputs.Label(num_top_classes = 3)\n",
    "\n",
    "# launching the interface\n",
    "gr.Interface(fn = example,inputs = image,outputs = label,capture_session = True,\n",
    "             title=\"This is an example\",description= \"Description of the user interface\").launch(share=True)"
   ]
  },
  {
   "cell_type": "code",
   "execution_count": null,
   "metadata": {},
   "outputs": [],
   "source": []
  }
 ],
 "metadata": {
  "accelerator": "GPU",
  "colab": {
   "collapsed_sections": [],
   "name": "COVID_PROJECT.ipynb",
   "provenance": []
  },
  "kernelspec": {
   "display_name": "Python 3",
   "language": "python",
   "name": "python3"
  },
  "language_info": {
   "codemirror_mode": {
    "name": "ipython",
    "version": 3
   },
   "file_extension": ".py",
   "mimetype": "text/x-python",
   "name": "python",
   "nbconvert_exporter": "python",
   "pygments_lexer": "ipython3",
   "version": "3.8.5"
  }
 },
 "nbformat": 4,
 "nbformat_minor": 1
}
